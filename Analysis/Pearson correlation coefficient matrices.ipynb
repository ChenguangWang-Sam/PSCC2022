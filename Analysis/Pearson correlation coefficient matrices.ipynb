{
 "cells": [
  {
   "cell_type": "markdown",
   "metadata": {},
   "source": [
    "# About this code\n",
    "\n",
    "- Code author: Chenguang Wang   \n",
    "- Email: c.wang-8@tudelft.nl; samwangchenguang@gmail.com\n",
    "- Affiliation: Delft University of Technology\n",
    "- Project name: Generating multivariate load states using a (conditional) variational autoencoder\n",
    "- Motivation: This is a project for PSCC2022 – Power Systems Computation Conference: [Homepage of the conference](https://pscc2022.pt/)\n",
    "- Aim of this code: Calculate Pearson correlation coefficient matrices of 6 (out of 32) countries’ historical and generated data at 2:00\n",
    "- A preprint is available, and you can check this paper for more details  [Link of the paper](https://arxiv.org/abs/2110.11435)\n",
    "    - Paper authors: Chenguang Wang, Ensieh Sharifnia, Zhi Gao, Simon H. Tindemans, Peter Palensky\n",
    "    - Accepted for publication at PSCC 2022 and a special issue of EPSR\n",
    "    - If you use (parts of) this code, please cite the preprint or published paper"
   ]
  },
  {
   "cell_type": "code",
   "execution_count": null,
   "metadata": {},
   "outputs": [],
   "source": [
    "# Import libraries\n",
    "import numpy as np\n",
    "import pandas as pd\n",
    "import matplotlib\n",
    "import matplotlib.pyplot as plt\n",
    "import seaborn as sns"
   ]
  },
  {
   "cell_type": "code",
   "execution_count": null,
   "metadata": {},
   "outputs": [],
   "source": [
    "# Data import\n",
    "Train_load_at_2          = pd.read_csv(\"../Data/Train_load_at_2.csv\", index_col=0) # Training data at 2:00\n",
    "σ_0_1_Time_2_mu          = pd.read_csv(\"../Generations/σ'_0.1_Time_2_mu.csv\", index_col=0) # CVAE (σ'=0.1; Noise free) data at 2:00\n",
    "σ_auto_Time_2_noisy_β_1  = pd.read_csv(\"../Generations/σ'_auto_Time_2_noisy_β=1.csv\", index_col=0) # CVAE (Auto σ'; Noisy) data at 2:00"
   ]
  },
  {
   "cell_type": "markdown",
   "metadata": {},
   "source": [
    "- Spain (ES), Croatia (HR), Iceland (IS), Italy (IT), Luxembourg (LU) and the Netherlands (NL)."
   ]
  },
  {
   "cell_type": "code",
   "execution_count": null,
   "metadata": {},
   "outputs": [],
   "source": [
    "# Calculate the correlation coefficient\n",
    "Train_load_at_2_corrcoef=pd.DataFrame(np.corrcoef(Train_load_at_2.T))\n",
    "σ_0_1_Time_2_mu_corrcoef=pd.DataFrame(np.corrcoef(σ_0_1_Time_2_mu.T))\n",
    "σ_auto_Time_2_noisy_β_1_corrcoef=pd.DataFrame(np.corrcoef(σ_auto_Time_2_noisy_β_1.T))\n",
    "\n",
    "# Get target columns\n",
    "ES=Train_load_at_2.columns.get_loc('ES_load_actual_entsoe_power_statistics')\n",
    "HR=Train_load_at_2.columns.get_loc('HR_load_actual_entsoe_power_statistics')\n",
    "IS=Train_load_at_2.columns.get_loc('IS_load_actual_entsoe_power_statistics')\n",
    "IT=Train_load_at_2.columns.get_loc('IT_load_actual_entsoe_power_statistics')\n",
    "LU=Train_load_at_2.columns.get_loc('LU_load_actual_entsoe_power_statistics')\n",
    "NL=Train_load_at_2.columns.get_loc('NL_load_actual_entsoe_power_statistics')\n",
    "loads_to_use_column=[ES,HR,IS,IT,LU,NL]\n",
    "\n",
    "Train_load_at_2_heatmap=Train_load_at_2_corrcoef.iloc[loads_to_use_column,loads_to_use_column]\n",
    "σ_0_1_Time_2_mu_heatmap=σ_0_1_Time_2_mu_corrcoef.iloc[loads_to_use_column,loads_to_use_column]\n",
    "σ_auto_Time_2_noisy_β_1_heatmap=σ_auto_Time_2_noisy_β_1_corrcoef.iloc[loads_to_use_column,loads_to_use_column]\n",
    "\n",
    "# Rename indices and columns\n",
    "Train_load_at_2_heatmap.columns =['ES', 'HR', 'IS', 'IT', 'LU', 'NL']\n",
    "σ_0_1_Time_2_mu_heatmap.columns =['ES', 'HR', 'IS', 'IT', 'LU', 'NL']\n",
    "σ_auto_Time_2_noisy_β_1_heatmap.columns =['ES', 'HR', 'IS', 'IT', 'LU', 'NL']\n",
    "\n",
    "Train_load_at_2_heatmap.index =['ES', 'HR', 'IS', 'IT', 'LU', 'NL']\n",
    "σ_0_1_Time_2_mu_heatmap.index =['ES', 'HR', 'IS', 'IT', 'LU', 'NL']\n",
    "σ_auto_Time_2_noisy_β_1_heatmap.index =['ES', 'HR', 'IS', 'IT', 'LU', 'NL']"
   ]
  },
  {
   "cell_type": "code",
   "execution_count": null,
   "metadata": {
    "scrolled": false
   },
   "outputs": [],
   "source": [
    "#------------------Set figure--------------------\n",
    "# figure size\n",
    "f, [ax1, ax2, ax3] = plt.subplots(figsize = (27, 8),nrows=1,ncols=3)\n",
    "# Set dpi\n",
    "plt.rcParams['savefig.dpi'] = 600\n",
    "plt.rcParams['figure.dpi'] = 600\n",
    "# set frame\n",
    "bwith = 1.5 \n",
    "TK = plt.gca()\n",
    "TK.spines['bottom'].set_linewidth(bwith)\n",
    "TK.spines['left'].set_linewidth(bwith)\n",
    "TK.spines['top'].set_linewidth(bwith)\n",
    "TK.spines['right'].set_linewidth(bwith)\n",
    "\n",
    "#------------------font--------------------------\n",
    "font = {'family' : 'Times New Roman',\n",
    "'weight' : 'normal','size': 24}\n",
    "\n",
    "#---------------------------------------------------------------------------------\n",
    "#---------------------------------------------------------------------------------\n",
    "#---------------------------------------------------------------------------------\n",
    "\n",
    "# Historical data\n",
    "ax1 = sns.heatmap(Train_load_at_2_heatmap, ax = ax1, vmin=0, vmax=1, cmap='Blues', center=None ,annot=True, fmt='.2g', linewidths=0.5, cbar=None, annot_kws={'size':26})\n",
    "plt.setp(ax1.get_yticklabels(), rotation=30, \n",
    "         rotation_mode=\"anchor\", size='26', font = 'Times New Roman')\n",
    "plt.setp(ax1.get_xticklabels(), rotation=0, \n",
    "         rotation_mode=\"anchor\", size='26', font = 'Times New Roman')\n",
    "ax1.tick_params(axis=u'both', which=u'both',length=5,width=3)\n",
    "\n",
    "# CVAE (σ'=0.1, Noise free) data\n",
    "ax2 = sns.heatmap(σ_0_1_Time_2_mu_heatmap, ax = ax2, vmin=0, vmax=1, cmap='Blues', center=None ,annot=True, fmt='.2g', linewidths=0.5, cbar=None, annot_kws={'size':26})\n",
    "plt.setp(ax2.get_yticklabels(), rotation=30, \n",
    "         rotation_mode=\"anchor\", size='26', font = 'Times New Roman')\n",
    "plt.setp(ax2.get_xticklabels(), rotation=0, \n",
    "         rotation_mode=\"anchor\", size='26', font = 'Times New Roman')\n",
    "ax2.tick_params(axis=u'both', which=u'both',length=5,width=3)\n",
    "\n",
    "# CVAE (Auto σ', Noisy) data\n",
    "ax3 = sns.heatmap(σ_auto_Time_2_noisy_β_1_heatmap, ax = ax3, vmin=0, vmax=1, cmap='Blues', center=None ,annot=True, fmt='.2g', linewidths=0.5, cbar=None, annot_kws={'size':26})\n",
    "plt.setp(ax3.get_yticklabels(), rotation=30,\n",
    "         rotation_mode=\"anchor\", size='26', font = 'Times New Roman')\n",
    "plt.setp(ax3.get_xticklabels(), rotation=0,\n",
    "         rotation_mode=\"anchor\", size='26', font = 'Times New Roman')\n",
    "ax3.tick_params(axis=u'both', which=u'both',length=5,width=3)\n",
    "\n",
    "#xlables\n",
    "ax1.set_title('Historical data',font)\n",
    "ax2.set_title('CVAE ($\\sigma^\\prime$=0.1, Noise free)',font)\n",
    "ax3.set_title('CVAE (Auto $\\sigma^\\prime$, Noisy)',font)\n",
    "\n",
    "plt.text(-11.62,6.83,'(d)',font)\n",
    "plt.text(-4.43, 6.83,'(e)',font)\n",
    "plt.text(2.77, 6.83,'(f)',font)\n",
    "\n",
    "plt.show()"
   ]
  }
 ],
 "metadata": {
  "kernelspec": {
   "display_name": "Python 3",
   "language": "python",
   "name": "python3"
  },
  "language_info": {
   "codemirror_mode": {
    "name": "ipython",
    "version": 3
   },
   "file_extension": ".py",
   "mimetype": "text/x-python",
   "name": "python",
   "nbconvert_exporter": "python",
   "pygments_lexer": "ipython3",
   "version": "3.8.8"
  }
 },
 "nbformat": 4,
 "nbformat_minor": 2
}
